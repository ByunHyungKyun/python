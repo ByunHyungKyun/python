{
 "cells": [
  {
   "cell_type": "code",
   "execution_count": null,
   "metadata": {},
   "outputs": [],
   "source": [
    "import sys\n",
    "from PyQt5.QtWidgets import QApplication, QWidget\n",
    "from PyQt5.QtWidgets import *\n",
    "from PyQt5 import uic\n",
    "\n",
    "form_class = uic.loadUiType(\"myqt01.ui\")[0]      \n",
    "\n",
    "class WindowClass(QMainWindow, form_class) :\n",
    "    def __init__(self) :\n",
    "        super().__init__()\n",
    "        self.setupUi(self)\n",
    "        \n",
    "        self.pb.clicked.connect(self.btnClick)\n",
    "    \n",
    "    def btnClick(self): \n",
    "        print(\"버튼이 클릭되었습니다.\")\n",
    "        self.lbl.setText(\"asdasdasd\")\n",
    "        \n",
    "if __name__ == '__main__':\n",
    "    app = QApplication(sys.argv)\n",
    "    myWindow = WindowClass() \n",
    "    myWindow.show()\n",
    "    app.exec_()"
   ]
  }
 ],
 "metadata": {
  "kernelspec": {
   "display_name": "Python 3",
   "language": "python",
   "name": "python3"
  },
  "language_info": {
   "codemirror_mode": {
    "name": "ipython",
    "version": 3
   },
   "file_extension": ".py",
   "mimetype": "text/x-python",
   "name": "python",
   "nbconvert_exporter": "python",
   "pygments_lexer": "ipython3",
   "version": "3.8.5"
  }
 },
 "nbformat": 4,
 "nbformat_minor": 4
}
